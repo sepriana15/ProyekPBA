{
 "cells": [
  {
   "cell_type": "markdown",
   "metadata": {},
   "source": [
    "PROYEK PBA - KELOMPOK JEBAL\n"
   ]
  },
  {
   "cell_type": "code",
   "execution_count": 2,
   "metadata": {},
   "outputs": [],
   "source": [
    "import numpy as np\n",
    "import matplotlib.pyplot as plt\n",
    "import pandas as pd"
   ]
  },
  {
   "cell_type": "code",
   "execution_count": 3,
   "metadata": {},
   "outputs": [],
   "source": [
    "dataset = pd.read_csv('menu.csv')"
   ]
  },
  {
   "cell_type": "code",
   "execution_count": 10,
   "metadata": {},
   "outputs": [],
   "source": [
    "x = dataset.iloc[:, :-1].values\n",
    "y = dataset.iloc[:, -1].values"
   ]
  },
  {
   "cell_type": "code",
   "execution_count": 13,
   "metadata": {},
   "outputs": [],
   "source": [
    "from sklearn.impute import SimpleImputer\n"
   ]
  },
  {
   "cell_type": "code",
   "execution_count": 14,
   "metadata": {},
   "outputs": [],
   "source": [
    "imputer = SimpleImputer(missing_values=np.nan, strategy='mean')\n"
   ]
  },
  {
   "cell_type": "code",
   "execution_count": 16,
   "metadata": {},
   "outputs": [
    {
     "name": "stdout",
     "output_type": "stream",
     "text": [
      "[['Breakfast' 'Egg McMuffin' '4.8 oz (136 g)' ... 10 0 25]\n",
      " ['Breakfast' 'Egg White Delight' '4.8 oz (135 g)' ... 6 0 25]\n",
      " ['Breakfast' 'Sausage McMuffin' '3.9 oz (111 g)' ... 8 0 25]\n",
      " ...\n",
      " ['Smoothies & Shakes' 'McFlurry with Oreo Cookies (Snack)'\n",
      "  '6.7 oz (190 g)' ... 10 0 25]\n",
      " ['Smoothies & Shakes'\n",
      "  \"McFlurry with Reese's Peanut Butter Cups (Medium)\" '14.2 oz (403 g)'\n",
      "  ... 20 0 60]\n",
      " ['Smoothies & Shakes' \"McFlurry with Reese's Peanut Butter Cups (Snack)\"\n",
      "  '7.1 oz (202 g)' ... 10 0 30]]\n"
     ]
    }
   ],
   "source": [
    "print(X)"
   ]
  },
  {
   "cell_type": "code",
   "execution_count": 17,
   "metadata": {},
   "outputs": [],
   "source": [
    "from sklearn.compose import ColumnTransformer\n",
    "from sklearn.preprocessing import OneHotEncoder\n",
    "\n",
    "ct = ColumnTransformer(transformers=[('encoder', OneHotEncoder(), [0])], remainder='passthrough')\n",
    "x = np.array(ct.fit_transform(x))"
   ]
  },
  {
   "cell_type": "code",
   "execution_count": 18,
   "metadata": {},
   "outputs": [
    {
     "name": "stdout",
     "output_type": "stream",
     "text": [
      "[[0.0 0.0 1.0 ... 10 0 25]\n",
      " [0.0 0.0 1.0 ... 6 0 25]\n",
      " [0.0 0.0 1.0 ... 8 0 25]\n",
      " ...\n",
      " [0.0 0.0 0.0 ... 10 0 25]\n",
      " [0.0 0.0 0.0 ... 20 0 60]\n",
      " [0.0 0.0 0.0 ... 10 0 30]]\n"
     ]
    }
   ],
   "source": [
    "print(x)"
   ]
  },
  {
   "cell_type": "code",
   "execution_count": 19,
   "metadata": {},
   "outputs": [],
   "source": [
    "from sklearn.preprocessing import LabelEncoder\n",
    "le = LabelEncoder()\n",
    "y = le.fit_transform(y)"
   ]
  },
  {
   "cell_type": "code",
   "execution_count": 20,
   "metadata": {},
   "outputs": [
    {
     "name": "stdout",
     "output_type": "stream",
     "text": [
      "[ 6  4  5  6  5  7  6  7  5  6  6  6  7  7  6  6  6  6  8  6  5  5  6  5\n",
      "  7  6  8  8  9  6  6 11 11  9  9  6  6  6  1  6  5  5  8  8  9  9  9 10\n",
      "  6  6  7  8  7  7  7  7  7  7  7  7  7  7  7  6  6  6  6  6  6  6  7  7\n",
      "  7  7  7  7  7  7  1  2  3  5  8  5  3  4  4  5  6  6  5  5  5  5  5  5\n",
      "  2  2  4  1  2  0  2  3  4  3  0  4  0  0  0  0  0  0  0  0  0  0  0  0\n",
      "  0  0  0  0  0  0  0  0  0  0  0  4  0  0  0  0  0  0  0  0  0  0  0  0\n",
      "  0  0  0  0  0  0  1  0  0  1  0  0  1  0  1  1  0  0  1  0  0  1  0  0\n",
      "  1  0  0  1  0  1  1  0  0  1  3  3  4  3  3  4  1  1  2  1  1  2  3  3\n",
      "  4  3  3  4  0  0  0  0  0  0  0  0  0  0  0  0  0  0  0  2  3  4  2  3\n",
      "  4  1  1  2  1  1  2  2  2  2  1  1  1  2  2  3  1  1  1  1  2  2  1  1\n",
      "  1  0  0  0  0  0  0  4  5  6  0  0  4  5  2  4  5  3  3  2]\n"
     ]
    }
   ],
   "source": [
    "print(y)"
   ]
  },
  {
   "cell_type": "code",
   "execution_count": 21,
   "metadata": {},
   "outputs": [],
   "source": [
    "from sklearn.model_selection import train_test_split\n",
    "x_train, x_test, y_train, y_test = train_test_split(x, y, test_size = 0.2, random_state = 1)"
   ]
  },
  {
   "cell_type": "code",
   "execution_count": 22,
   "metadata": {},
   "outputs": [
    {
     "name": "stdout",
     "output_type": "stream",
     "text": [
      "[[0.0 0.0 1.0 ... 0 2 25]\n",
      " [0.0 0.0 0.0 ... 0 0 0]\n",
      " [0.0 0.0 0.0 ... 0 0 0]\n",
      " ...\n",
      " [0.0 0.0 0.0 ... 60 15 20]\n",
      " [0.0 0.0 0.0 ... 0 30 8]\n",
      " [0.0 0.0 1.0 ... 10 2 15]]\n"
     ]
    }
   ],
   "source": [
    "print(x_train)"
   ]
  },
  {
   "cell_type": "code",
   "execution_count": 23,
   "metadata": {},
   "outputs": [
    {
     "name": "stdout",
     "output_type": "stream",
     "text": [
      "[[0.0 0.0 0.0 ... 2 15 10]\n",
      " [0.0 0.0 0.0 ... 25 0 50]\n",
      " [0.0 0.0 0.0 ... 20 0 50]\n",
      " ...\n",
      " [0.0 0.0 1.0 ... 10 10 20]\n",
      " [0.0 0.0 0.0 ... 10 0 30]\n",
      " [0.0 1.0 0.0 ... 10 4 30]]\n"
     ]
    }
   ],
   "source": [
    "print(x_test)"
   ]
  },
  {
   "cell_type": "code",
   "execution_count": 24,
   "metadata": {},
   "outputs": [
    {
     "name": "stdout",
     "output_type": "stream",
     "text": [
      "[ 9  0  0  6  6  6  6  0  6  3  1  2  6  9  6  1  1 10  5  5  5  0  6  0\n",
      "  0  1  3  0  5  7  5  0  0  0  1  0  6  0  1  5  6  7  2  7  0  3  7  3\n",
      "  0  0  4  0  0  8  6  7  3  0  6  0  0  6  7  1  1  3  2  7  1  4  2  0\n",
      "  0  0  2  3  8  1  5  2  5  0  1  0  7  1  1  9  1  3  6  4  0  0  0  7\n",
      "  3  2  0  0  5  0  6  1  0  7  0  6  0  0  9  7  5  2  5  0  4  6  1 11\n",
      "  0  0  5  2  1  0  2  0  5  0  6  1  4  1  0  0  0  0  6  6  5  4  0  3\n",
      "  7  8  7  8  7  0  6  1  6  0  0  4  4  6  0  0  0  0  1  5  0  7  0  4\n",
      "  7  6  7  6  7  5  0  4  2  2  3  3  6  7  0  0  1  1  0  3  0  0  5  3\n",
      "  6  0  2  7  0  0  0  4  2  0  0  0  4  7  1  6]\n"
     ]
    }
   ],
   "source": [
    "print(y_train)"
   ]
  },
  {
   "cell_type": "code",
   "execution_count": 25,
   "metadata": {},
   "outputs": [
    {
     "name": "stdout",
     "output_type": "stream",
     "text": [
      "[ 2  0  3  0  3  2  1  3  0  4  8  2  6  4  7  5  5  8  0  2  2  0  0  9\n",
      "  1  6  9  7  7  0  0  4  0  7  4  1  1  1  0  5  2  0  0  0 11  8  1  1\n",
      "  1  6  1  0]\n"
     ]
    }
   ],
   "source": [
    "print(y_test)"
   ]
  },
  {
   "cell_type": "code",
   "execution_count": 27,
   "metadata": {},
   "outputs": [],
   "source": [
    "from sklearn.preprocessing import StandardScaler\n",
    "sc = StandardScaler()\n"
   ]
  },
  {
   "cell_type": "code",
   "execution_count": 29,
   "metadata": {},
   "outputs": [
    {
     "name": "stdout",
     "output_type": "stream",
     "text": [
      "[[0.0 0.0 1.0 ... 0 2 25]\n",
      " [0.0 0.0 0.0 ... 0 0 0]\n",
      " [0.0 0.0 0.0 ... 0 0 0]\n",
      " ...\n",
      " [0.0 0.0 0.0 ... 60 15 20]\n",
      " [0.0 0.0 0.0 ... 0 30 8]\n",
      " [0.0 0.0 1.0 ... 10 2 15]]\n"
     ]
    }
   ],
   "source": [
    "print(x_train)"
   ]
  },
  {
   "cell_type": "code",
   "execution_count": 30,
   "metadata": {},
   "outputs": [
    {
     "name": "stdout",
     "output_type": "stream",
     "text": [
      "[[0.0 0.0 0.0 ... 2 15 10]\n",
      " [0.0 0.0 0.0 ... 25 0 50]\n",
      " [0.0 0.0 0.0 ... 20 0 50]\n",
      " ...\n",
      " [0.0 0.0 1.0 ... 10 10 20]\n",
      " [0.0 0.0 0.0 ... 10 0 30]\n",
      " [0.0 1.0 0.0 ... 10 4 30]]\n"
     ]
    }
   ],
   "source": [
    "print(x_test)"
   ]
  },
  {
   "cell_type": "code",
   "execution_count": null,
   "metadata": {},
   "outputs": [],
   "source": []
  }
 ],
 "metadata": {
  "kernelspec": {
   "display_name": "Python 3",
   "language": "python",
   "name": "python3"
  },
  "language_info": {
   "codemirror_mode": {
    "name": "ipython",
    "version": 3
   },
   "file_extension": ".py",
   "mimetype": "text/x-python",
   "name": "python",
   "nbconvert_exporter": "python",
   "pygments_lexer": "ipython3",
   "version": "3.7.3"
  }
 },
 "nbformat": 4,
 "nbformat_minor": 2
}
